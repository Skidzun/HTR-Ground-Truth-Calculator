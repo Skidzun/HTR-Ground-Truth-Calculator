{
 "cells": [
  {
   "cell_type": "markdown",
   "id": "511c5086-1feb-4a78-a295-616278636865",
   "metadata": {},
   "source": [
    "# Instructions\n",
    "## Description\n",
    "This notebook provides a tool to calculate ground truth (GT) for ATR (automated text recognition) projects by providing the number of characters, words and lines, resüectively. The instructions below offer some neccessary preparatory steps.\n",
    "\n",
    "## Preparations\n",
    "For this notebook to fulfull its task please prepare a folder containing two subfolders titled `src`and `data`. Save the notebook in the `src` folder. Save your GT as a `txt` file named `GT-txt` into the `data`folder. Make sure there are no xml-encodings left as the tool would count these as well.\n",
    "\n",
    "## Save your results\n",
    "If you wish to save your results, this notebook will save them as `GT-total.csv` in the `data`folder.\n",
    "\n",
    "## Changes\n",
    "If needed do not hesitate to change the code to fit your project."
   ]
  },
  {
   "cell_type": "code",
   "execution_count": 2,
   "id": "0514ad80-17c2-4615-9cca-24554a169bf8",
   "metadata": {},
   "outputs": [
    {
     "name": "stdout",
     "output_type": "stream",
     "text": [
      "number of characters: 61198\n",
      "number of words: 9629\n",
      "number of lines: 454\n"
     ]
    }
   ],
   "source": [
    "with open('../data/GT.txt', 'r', encoding='utf8') as f:\n",
    "    text = f.read() # saves GT into a variable to calculate numbers of characters and words\n",
    "\n",
    "# Caculate the number of characters\n",
    "number_char = len(text)\n",
    "\n",
    "# Calculate the number of words\n",
    "text_tokenised = text.split() # splits the text into single tokens\n",
    "number_words = len(text_tokenised) # counts the tokens\n",
    "\n",
    "# Calculate the number of lines\n",
    "with open('../data/GT.txt', 'r', encoding='utf8') as f:\n",
    "    text_lines = f.readlines() # saves lines into variable\n",
    "number_lines = len(text_lines) # counts lines\n",
    "\n",
    "# Print results\n",
    "print(f'number of characters: {number_char}')\n",
    "print(f'number of words: {number_words}')\n",
    "print(f'number of lines: {number_lines}')"
   ]
  },
  {
   "cell_type": "code",
   "execution_count": null,
   "id": "bb0293ae-874f-45b8-8f42-819090b4ebba",
   "metadata": {},
   "outputs": [],
   "source": [
    "# Create a csv file with results\n",
    "import csv\n",
    "import os\n",
    "\n",
    "with open('../data/GT-total.csv', 'w', encoding='utf-8', newline='') as f: # Beware: this will create a new file and overwrite any existing file with the same name\n",
    "    writer = csv.writer(f, delimiter=',') #if you wish to append an existing file, change 'w' to 'a' and '.writer' to '.append'\n",
    "\n",
    "    # Write header\n",
    "    header = ['ID', 'Corpus', 'Zeichen', 'Wörter', 'Zeilen'] # delete this section if you append an existing file\n",
    "    writer.writerow(header) # if appending, delete this as well\n",
    "\n",
    "    # Write line\n",
    "    ID =+ 1\n",
    "    row = [ID, 'Urkunden Reg.F.III', number_char, number_words, number_lines] # change corpus name if appending\n",
    "    writer.writerow(row)"
   ]
  }
 ],
 "metadata": {
  "kernelspec": {
   "display_name": "Python 3 (ipykernel)",
   "language": "python",
   "name": "python3"
  },
  "language_info": {
   "codemirror_mode": {
    "name": "ipython",
    "version": 3
   },
   "file_extension": ".py",
   "mimetype": "text/x-python",
   "name": "python",
   "nbconvert_exporter": "python",
   "pygments_lexer": "ipython3",
   "version": "3.12.9"
  }
 },
 "nbformat": 4,
 "nbformat_minor": 5
}
