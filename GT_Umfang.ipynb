{
 "cells": [
  {
   "cell_type": "markdown",
   "id": "511c5086-1feb-4a78-a295-616278636865",
   "metadata": {},
   "source": [
    "# Hinweise\n",
    "## Vorbereitungen\n",
    "Dieses Notebook dient dazu, Ground Truth-Daten zu berechnen. Dazu bitte einen Ordner mit zwei Unterordner erstellen. Die Unterordner als `data` und `src` bennen. Dieses Skript in den `src`-Ordner einstellen. In den `data`-Ordner kommt eine Datei mit der Bezeichnung `GT.txt`, welche die Ground Truth ohne xml-Daten enthält.\n",
    "\n",
    "## Funktion des Skripts\n",
    "Nachfolgend lassen sich die Anzahl der Zeichen, Wörter und Zeilen berechnen und in Variablen ausgeben.\n",
    "\n",
    "## Ergebnisse ablegen\n",
    "Bei Bedarf speichert das Notebook am Ende die Werte in eine csv-Datei `GT-Umfang.csv`.\n",
    "\n",
    "## Hinweis\n",
    "An einzelnen Stellen muss der Code angepasst werden, um für die eigenen Bedürfnisse zu passen."
   ]
  },
  {
   "cell_type": "code",
   "execution_count": null,
   "id": "0514ad80-17c2-4615-9cca-24554a169bf8",
   "metadata": {},
   "outputs": [],
   "source": [
    "# Zeichenzahl berechnen\n",
    "# GT-Dokument öffnen und Inhalt der Variablen text zuweisen\n",
    "with open('../data/GT.txt', 'r', encoding='utf8') as f:\n",
    "    text = f.read()\n",
    "\n",
    "# Zeichenzahl in der Variablen number_char speichern\n",
    "number_char = len(text)"
   ]
  },
  {
   "cell_type": "code",
   "execution_count": null,
   "id": "0efeb9c1-94d7-4e6c-99b4-4b885a8baafa",
   "metadata": {},
   "outputs": [],
   "source": [
    "# Wortzahl berechnen\n",
    "# Text in einzelne Tokens unterteilen\n",
    "text_tokenised = text.split()\n",
    "\n",
    "# Wortzahl in der Variablen number_words speichern\n",
    "number_words = len(text_tokenised)"
   ]
  },
  {
   "cell_type": "code",
   "execution_count": null,
   "id": "912361a6-a44f-490c-a604-e0f1c6170266",
   "metadata": {},
   "outputs": [],
   "source": [
    "# Zeilenzahl berechnen\n",
    "# GT-Dokument in Zeilen unterteilen und Inhalt der Variablen text_lines zuweisen\n",
    "with open('../data/GT.txt', 'r', encoding='utf8') as f:\n",
    "    text_lines = f.readlines()\n",
    "\n",
    "# Zeilenzahl in der Variablen number_lines speichern\n",
    "number_lines = len(text_lines)"
   ]
  },
  {
   "cell_type": "code",
   "execution_count": null,
   "id": "d318a349-2e4b-4855-8e25-900f1aa94dd5",
   "metadata": {},
   "outputs": [],
   "source": [
    "# Werte ausgeben lassen\n",
    "print(f'Zeichen: {number_char}')\n",
    "print(f'Wörter: {number_words}')\n",
    "print(f'Zeilen: {number_lines}')"
   ]
  },
  {
   "cell_type": "code",
   "execution_count": null,
   "id": "bb0293ae-874f-45b8-8f42-819090b4ebba",
   "metadata": {},
   "outputs": [],
   "source": [
    "# Werte als csv-Datei ausgeben\n",
    "# Pakete importieren\n",
    "import csv\n",
    "import os\n",
    "\n",
    "# ACHTUNG: Erstellt eine neue Datei\n",
    "# Soll eine Datei erweitert werden, 'a' statt 'w' sowie .append statt .writer benutzen \n",
    "# und Header löschen!\n",
    "# Die Corpus-Bezeichnung anpassen.\n",
    "with open('../data/GT-Umfang.csv', 'w', encoding='utf-8', newline='') as f:\n",
    "    writer = csv.writer(f, delimiter=',')\n",
    "\n",
    "    # Header schreiben\n",
    "    header = ['ID', 'Corpus', 'Zeichen', 'Wörter', 'Zeilen']\n",
    "    writer.writerow(header)\n",
    "\n",
    "    # Zeile schreiben\n",
    "    ID =+ 1\n",
    "    row = [ID, 'Urkunden Reg.F.III', number_char, number_words, number_lines]\n",
    "    writer.writerow(row)"
   ]
  }
 ],
 "metadata": {
  "kernelspec": {
   "display_name": "Python 3 (ipykernel)",
   "language": "python",
   "name": "python3"
  },
  "language_info": {
   "codemirror_mode": {
    "name": "ipython",
    "version": 3
   },
   "file_extension": ".py",
   "mimetype": "text/x-python",
   "name": "python",
   "nbconvert_exporter": "python",
   "pygments_lexer": "ipython3",
   "version": "3.12.9"
  }
 },
 "nbformat": 4,
 "nbformat_minor": 5
}
